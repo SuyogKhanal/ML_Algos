{
 "cells": [
  {
   "cell_type": "code",
   "execution_count": 1,
   "metadata": {},
   "outputs": [],
   "source": [
    "import tensorflow as tf"
   ]
  },
  {
   "cell_type": "code",
   "execution_count": 2,
   "metadata": {},
   "outputs": [],
   "source": [
    "from tensorflow import keras"
   ]
  },
  {
   "cell_type": "code",
   "execution_count": 3,
   "metadata": {},
   "outputs": [
    {
     "name": "stdout",
     "output_type": "stream",
     "text": [
      "2.7.0\n"
     ]
    }
   ],
   "source": [
    "print(tf.__version__)"
   ]
  },
  {
   "cell_type": "code",
   "execution_count": 4,
   "metadata": {},
   "outputs": [],
   "source": [
    "mnist = keras.datasets.fashion_mnist"
   ]
  },
  {
   "cell_type": "code",
   "execution_count": 5,
   "metadata": {},
   "outputs": [],
   "source": [
    "(x_train,y_train),(x_test,y_test) = mnist.load_data()"
   ]
  },
  {
   "cell_type": "code",
   "execution_count": 6,
   "metadata": {},
   "outputs": [
    {
     "name": "stdout",
     "output_type": "stream",
     "text": [
      "[[[0 0 0 ... 0 0 0]\n",
      "  [0 0 0 ... 0 0 0]\n",
      "  [0 0 0 ... 0 0 0]\n",
      "  ...\n",
      "  [0 0 0 ... 0 0 0]\n",
      "  [0 0 0 ... 0 0 0]\n",
      "  [0 0 0 ... 0 0 0]]\n",
      "\n",
      " [[0 0 0 ... 0 0 0]\n",
      "  [0 0 0 ... 0 0 0]\n",
      "  [0 0 0 ... 0 0 0]\n",
      "  ...\n",
      "  [0 0 0 ... 0 0 0]\n",
      "  [0 0 0 ... 0 0 0]\n",
      "  [0 0 0 ... 0 0 0]]\n",
      "\n",
      " [[0 0 0 ... 0 0 0]\n",
      "  [0 0 0 ... 0 0 0]\n",
      "  [0 0 0 ... 0 0 0]\n",
      "  ...\n",
      "  [0 0 0 ... 0 0 0]\n",
      "  [0 0 0 ... 0 0 0]\n",
      "  [0 0 0 ... 0 0 0]]\n",
      "\n",
      " ...\n",
      "\n",
      " [[0 0 0 ... 0 0 0]\n",
      "  [0 0 0 ... 0 0 0]\n",
      "  [0 0 0 ... 0 0 0]\n",
      "  ...\n",
      "  [0 0 0 ... 0 0 0]\n",
      "  [0 0 0 ... 0 0 0]\n",
      "  [0 0 0 ... 0 0 0]]\n",
      "\n",
      " [[0 0 0 ... 0 0 0]\n",
      "  [0 0 0 ... 0 0 0]\n",
      "  [0 0 0 ... 0 0 0]\n",
      "  ...\n",
      "  [0 0 0 ... 0 0 0]\n",
      "  [0 0 0 ... 0 0 0]\n",
      "  [0 0 0 ... 0 0 0]]\n",
      "\n",
      " [[0 0 0 ... 0 0 0]\n",
      "  [0 0 0 ... 0 0 0]\n",
      "  [0 0 0 ... 0 0 0]\n",
      "  ...\n",
      "  [0 0 0 ... 0 0 0]\n",
      "  [0 0 0 ... 0 0 0]\n",
      "  [0 0 0 ... 0 0 0]]]\n"
     ]
    }
   ],
   "source": [
    "print(x_train)"
   ]
  },
  {
   "cell_type": "code",
   "execution_count": 7,
   "metadata": {},
   "outputs": [
    {
     "name": "stdout",
     "output_type": "stream",
     "text": [
      "(60000, 28, 28) (60000,) (10000, 28, 28) (10000,)\n"
     ]
    }
   ],
   "source": [
    "print(x_train.shape,y_train.shape,x_test.shape,y_test.shape)"
   ]
  },
  {
   "cell_type": "code",
   "execution_count": 8,
   "metadata": {},
   "outputs": [],
   "source": [
    "import numpy as np\n",
    "import matplotlib.pyplot as plt"
   ]
  },
  {
   "cell_type": "code",
   "execution_count": 9,
   "metadata": {},
   "outputs": [],
   "source": [
    "class_names = ['top','trouser','pullover','dress','coat','sandal','shirt','sneaker','bag','ankle boot']"
   ]
  },
  {
   "cell_type": "markdown",
   "metadata": {},
   "source": [
    "Data Exploration"
   ]
  },
  {
   "cell_type": "code",
   "execution_count": 10,
   "metadata": {},
   "outputs": [
    {
     "data": {
      "text/plain": [
       "<matplotlib.colorbar.Colorbar at 0x1a20733f070>"
      ]
     },
     "execution_count": 10,
     "metadata": {},
     "output_type": "execute_result"
    },
    {
     "data": {
      "image/png": "[encoded data removed]",
      "text/plain": [
       "<Figure size 432x288 with 2 Axes>"
      ]
     },
     "metadata": {
      "needs_background": "light"
     },
     "output_type": "display_data"
    }
   ],
   "source": [
    "plt.figure()\n",
    "plt.imshow(x_train[29293])\n",
    "plt.colorbar()"
   ]
  },
  {
   "cell_type": "code",
   "execution_count": 11,
   "metadata": {},
   "outputs": [],
   "source": [
    "x_train = x_train/255\n",
    "x_test = x_test/255"
   ]
  },
  {
   "cell_type": "code",
   "execution_count": 13,
   "metadata": {},
   "outputs": [
    {
     "data": {
      "text/plain": [
       "<matplotlib.colorbar.Colorbar at 0x1a204036130>"
      ]
     },
     "execution_count": 13,
     "metadata": {},
     "output_type": "execute_result"
    },
    {
     "data": {
      "image/png": "[encoded data removed]",
      "text/plain": [
       "<Figure size 432x288 with 2 Axes>"
      ]
     },
     "metadata": {
      "needs_background": "light"
     },
     "output_type": "display_data"
    }
   ],
   "source": [
    "plt.figure()\n",
    "plt.imshow(x_train[29])\n",
    "plt.colorbar()"
   ]
  },
  {
   "cell_type": "markdown",
   "metadata": {},
   "source": [
    "## Building the model"
   ]
  },
  {
   "cell_type": "code",
   "execution_count": 14,
   "metadata": {},
   "outputs": [],
   "source": [
    "from tensorflow.keras.models import Sequential\n",
    "from tensorflow.keras.layers import Dense,Flatten"
   ]
  },
  {
   "cell_type": "code",
   "execution_count": 99,
   "metadata": {},
   "outputs": [],
   "source": [
    "model = Sequential()\n",
    "model.add(Flatten(input_shape = (28,28)))\n",
    "model.add(Dense(326,activation = 'relu'))\n",
    "model.add(Dense(56,activation = 'relu'))\n",
    "model.add(Dense(10,activation = 'softmax'))"
   ]
  },
  {
   "cell_type": "code",
   "execution_count": 100,
   "metadata": {},
   "outputs": [
    {
     "name": "stdout",
     "output_type": "stream",
     "text": [
      "Model: \"sequential_16\"\n",
      "_________________________________________________________________\n",
      " Layer (type)                Output Shape              Param #   \n",
      "=================================================================\n",
      " flatten_16 (Flatten)        (None, 784)               0         \n",
      "                                                                 \n",
      " dense_47 (Dense)            (None, 326)               255910    \n",
      "                                                                 \n",
      " dense_48 (Dense)            (None, 56)                18312     \n",
      "                                                                 \n",
      " dense_49 (Dense)            (None, 10)                570       \n",
      "                                                                 \n",
      "=================================================================\n",
      "Total params: 274,792\n",
      "Trainable params: 274,792\n",
      "Non-trainable params: 0\n",
      "_________________________________________________________________\n"
     ]
    }
   ],
   "source": [
    "model.summary()"
   ]
  },
  {
   "cell_type": "code",
   "execution_count": 101,
   "metadata": {},
   "outputs": [],
   "source": [
    "model.compile(optimizer='adam', loss = 'sparse_categorical_crossentropy',metrics = ['accuracy'])"
   ]
  },
  {
   "cell_type": "code",
   "execution_count": 102,
   "metadata": {},
   "outputs": [
    {
     "name": "stdout",
     "output_type": "stream",
     "text": [
      "Epoch 1/30\n",
      "12/12 [==============================] - 1s 47ms/step - loss: 1.4182 - accuracy: 0.5611\n",
      "Epoch 2/30\n",
      "12/12 [==============================] - 1s 43ms/step - loss: 0.7074 - accuracy: 0.7534\n",
      "Epoch 3/30\n",
      "12/12 [==============================] - 1s 44ms/step - loss: 0.5651 - accuracy: 0.8074\n",
      "Epoch 4/30\n",
      "12/12 [==============================] - 1s 43ms/step - loss: 0.4991 - accuracy: 0.8293\n",
      "Epoch 5/30\n",
      "12/12 [==============================] - 0s 35ms/step - loss: 0.4607 - accuracy: 0.8411\n",
      "Epoch 6/30\n",
      "12/12 [==============================] - 0s 36ms/step - loss: 0.4389 - accuracy: 0.8483\n",
      "Epoch 7/30\n",
      "12/12 [==============================] - 0s 33ms/step - loss: 0.4193 - accuracy: 0.8552\n",
      "Epoch 8/30\n",
      "12/12 [==============================] - 0s 34ms/step - loss: 0.4023 - accuracy: 0.8606\n",
      "Epoch 9/30\n",
      "12/12 [==============================] - 0s 33ms/step - loss: 0.3972 - accuracy: 0.8619\n",
      "Epoch 10/30\n",
      "12/12 [==============================] - 0s 33ms/step - loss: 0.3909 - accuracy: 0.8626\n",
      "Epoch 11/30\n",
      "12/12 [==============================] - 0s 33ms/step - loss: 0.3745 - accuracy: 0.8685\n",
      "Epoch 12/30\n",
      "12/12 [==============================] - 0s 33ms/step - loss: 0.3648 - accuracy: 0.8716\n",
      "Epoch 13/30\n",
      "12/12 [==============================] - 0s 33ms/step - loss: 0.3592 - accuracy: 0.8744\n",
      "Epoch 14/30\n",
      "12/12 [==============================] - 0s 34ms/step - loss: 0.3475 - accuracy: 0.8784\n",
      "Epoch 15/30\n",
      "12/12 [==============================] - 0s 33ms/step - loss: 0.3425 - accuracy: 0.8809\n",
      "Epoch 16/30\n",
      "12/12 [==============================] - 0s 34ms/step - loss: 0.3365 - accuracy: 0.8808\n",
      "Epoch 17/30\n",
      "12/12 [==============================] - 0s 32ms/step - loss: 0.3313 - accuracy: 0.8829\n",
      "Epoch 18/30\n",
      "12/12 [==============================] - 0s 29ms/step - loss: 0.3250 - accuracy: 0.8852\n",
      "Epoch 19/30\n",
      "12/12 [==============================] - 0s 28ms/step - loss: 0.3170 - accuracy: 0.8885\n",
      "Epoch 20/30\n",
      "12/12 [==============================] - 0s 29ms/step - loss: 0.3115 - accuracy: 0.8900\n",
      "Epoch 21/30\n",
      "12/12 [==============================] - 0s 31ms/step - loss: 0.3066 - accuracy: 0.8913\n",
      "Epoch 22/30\n",
      "12/12 [==============================] - 0s 32ms/step - loss: 0.3013 - accuracy: 0.8928\n",
      "Epoch 23/30\n",
      "12/12 [==============================] - 0s 33ms/step - loss: 0.2992 - accuracy: 0.8939\n",
      "Epoch 24/30\n",
      "12/12 [==============================] - 0s 33ms/step - loss: 0.2983 - accuracy: 0.8941\n",
      "Epoch 25/30\n",
      "12/12 [==============================] - 0s 33ms/step - loss: 0.2910 - accuracy: 0.8959\n",
      "Epoch 26/30\n",
      "12/12 [==============================] - 0s 32ms/step - loss: 0.2872 - accuracy: 0.8980\n",
      "Epoch 27/30\n",
      "12/12 [==============================] - 0s 35ms/step - loss: 0.2859 - accuracy: 0.8971\n",
      "Epoch 28/30\n",
      "12/12 [==============================] - 0s 32ms/step - loss: 0.2811 - accuracy: 0.8988\n",
      "Epoch 29/30\n",
      "12/12 [==============================] - 0s 33ms/step - loss: 0.2781 - accuracy: 0.9007\n",
      "Epoch 30/30\n",
      "12/12 [==============================] - 0s 33ms/step - loss: 0.2730 - accuracy: 0.9021\n"
     ]
    },
    {
     "data": {
      "text/plain": [
       "<keras.callbacks.History at 0x1a25ca4d2e0>"
      ]
     },
     "execution_count": 102,
     "metadata": {},
     "output_type": "execute_result"
    }
   ],
   "source": [
    "model.fit(x_train, y_train, epochs = 30, batch_size = 5000)"
   ]
  },
  {
   "cell_type": "code",
   "execution_count": 103,
   "metadata": {},
   "outputs": [
    {
     "name": "stdout",
     "output_type": "stream",
     "text": [
      "2/2 [==============================] - 0s 41ms/step - loss: 0.3431 - accuracy: 0.8765\n"
     ]
    },
    {
     "data": {
      "text/plain": [
       "[0.343060165643692, 0.8765000104904175]"
      ]
     },
     "execution_count": 103,
     "metadata": {},
     "output_type": "execute_result"
    }
   ],
   "source": [
    "model.evaluate(x_test,y_test,batch_size=5000)"
   ]
  },
  {
   "cell_type": "code",
   "execution_count": 104,
   "metadata": {},
   "outputs": [],
   "source": [
    "predicted_y = model.predict(x_test)"
   ]
  },
  {
   "cell_type": "code",
   "execution_count": 105,
   "metadata": {},
   "outputs": [
    {
     "data": {
      "text/plain": [
       "array([[1.00245470e-05, 2.71019218e-07, 3.82164671e-06, ...,\n",
       "        3.99928614e-02, 2.62902514e-03, 9.29985225e-01],\n",
       "       [1.37652314e-04, 4.74152362e-09, 9.94509518e-01, ...,\n",
       "        9.71450893e-13, 2.21694245e-06, 3.89100983e-14],\n",
       "       [2.26419670e-05, 9.99962687e-01, 5.99788393e-07, ...,\n",
       "        1.36055911e-09, 5.13877808e-07, 1.26919317e-11],\n",
       "       ...,\n",
       "       [9.47874156e-04, 6.82236987e-07, 4.45774989e-03, ...,\n",
       "        4.65994981e-06, 9.92735267e-01, 1.94805949e-09],\n",
       "       [4.56900398e-06, 9.99705970e-01, 2.11691417e-06, ...,\n",
       "        1.15190204e-07, 1.11671477e-06, 1.05335559e-07],\n",
       "       [7.06051011e-04, 3.22171309e-06, 1.31260109e-04, ...,\n",
       "        2.21754443e-02, 7.75605091e-04, 7.85250377e-05]], dtype=float32)"
      ]
     },
     "execution_count": 105,
     "metadata": {},
     "output_type": "execute_result"
    }
   ],
   "source": [
    "predicted_y"
   ]
  },
  {
   "cell_type": "code",
   "execution_count": 106,
   "metadata": {},
   "outputs": [],
   "source": [
    "yy = model.predict_on_batch(x_test)"
   ]
  },
  {
   "cell_type": "code",
   "execution_count": 107,
   "metadata": {},
   "outputs": [
    {
     "data": {
      "text/plain": [
       "array([[1.00245452e-05, 2.71019701e-07, 3.82164626e-06, ...,\n",
       "        3.99928987e-02, 2.62902630e-03, 9.29985106e-01],\n",
       "       [1.37651659e-04, 4.74151474e-09, 9.94509518e-01, ...,\n",
       "        9.71447315e-13, 2.21693836e-06, 3.89100983e-14],\n",
       "       [2.26419452e-05, 9.99962687e-01, 5.99787256e-07, ...,\n",
       "        1.36055911e-09, 5.13877296e-07, 1.26919074e-11],\n",
       "       ...,\n",
       "       [9.47875960e-04, 6.82237612e-07, 4.45775222e-03, ...,\n",
       "        4.65995890e-06, 9.92735267e-01, 1.94806682e-09],\n",
       "       [4.56900807e-06, 9.99705970e-01, 2.11691622e-06, ...,\n",
       "        1.15190424e-07, 1.11671579e-06, 1.05335758e-07],\n",
       "       [7.06052582e-04, 3.22171854e-06, 1.31260342e-04, ...,\n",
       "        2.21754834e-02, 7.75607186e-04, 7.85252414e-05]], dtype=float32)"
      ]
     },
     "execution_count": 107,
     "metadata": {},
     "output_type": "execute_result"
    }
   ],
   "source": [
    "yy"
   ]
  },
  {
   "cell_type": "code",
   "execution_count": 132,
   "metadata": {},
   "outputs": [
    {
     "data": {
      "text/plain": [
       "array([1.0024545e-05, 2.7101970e-07, 3.8216463e-06, 2.9456362e-05,\n",
       "       1.3446248e-06, 2.7318066e-02, 2.9963609e-05, 3.9992899e-02,\n",
       "       2.6290263e-03, 9.2998511e-01], dtype=float32)"
      ]
     },
     "execution_count": 132,
     "metadata": {},
     "output_type": "execute_result"
    }
   ],
   "source": [
    "yy[0]"
   ]
  },
  {
   "cell_type": "code",
   "execution_count": null,
   "metadata": {},
   "outputs": [],
   "source": []
  },
  {
   "cell_type": "code",
   "execution_count": null,
   "metadata": {},
   "outputs": [],
   "source": []
  }
 ],
 "metadata": {
  "kernelspec": {
   "display_name": "Python 3",
   "language": "python",
   "name": "python3"
  },
  "language_info": {
   "codemirror_mode": {
    "name": "ipython",
    "version": 3
   },
   "file_extension": ".py",
   "mimetype": "text/x-python",
   "name": "python",
   "nbconvert_exporter": "python",
   "pygments_lexer": "ipython3",
   "version": "3.8.5"
  }
 },
 "nbformat": 4,
 "nbformat_minor": 4
}
