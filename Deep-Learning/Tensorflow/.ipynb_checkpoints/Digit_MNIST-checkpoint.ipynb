{
 "cells": [
  {
   "cell_type": "markdown",
   "metadata": {
    "tags": []
   },
   "source": [
    "## Importing Tensorflow:"
   ]
  },
  {
   "cell_type": "code",
   "execution_count": 1,
   "metadata": {},
   "outputs": [],
   "source": [
    "import tensorflow as tf\n",
    "from tensorflow import keras"
   ]
  },
  {
   "cell_type": "markdown",
   "metadata": {},
   "source": [
    "## The version of Tensorflow in our system:"
   ]
  },
  {
   "cell_type": "code",
   "execution_count": 2,
   "metadata": {},
   "outputs": [
    {
     "name": "stdout",
     "output_type": "stream",
     "text": [
      "2.7.0\n"
     ]
    }
   ],
   "source": [
    "print(tf.__version__)"
   ]
  },
  {
   "cell_type": "code",
   "execution_count": 3,
   "metadata": {},
   "outputs": [],
   "source": [
    "import numpy as np\n",
    "import matplotlib.pyplot as plt\n"
   ]
  },
  {
   "cell_type": "markdown",
   "metadata": {},
   "source": [
    "## Importing data and Loading data:"
   ]
  },
  {
   "cell_type": "code",
   "execution_count": 4,
   "metadata": {},
   "outputs": [],
   "source": [
    "mnist = keras.datasets.mnist"
   ]
  },
  {
   "cell_type": "code",
   "execution_count": 5,
   "metadata": {},
   "outputs": [],
   "source": [
    "(x_train,y_train),(x_test,y_test) = mnist.load_data()"
   ]
  },
  {
   "cell_type": "markdown",
   "metadata": {},
   "source": [
    "## Looking at the shape of our data:"
   ]
  },
  {
   "cell_type": "code",
   "execution_count": 6,
   "metadata": {},
   "outputs": [
    {
     "name": "stdout",
     "output_type": "stream",
     "text": [
      "(60000, 28, 28) (60000,) (10000, 28, 28) (10000,)\n"
     ]
    }
   ],
   "source": [
    "print(x_train.shape,y_train.shape,x_test.shape,y_test.shape)"
   ]
  },
  {
   "cell_type": "code",
   "execution_count": 7,
   "metadata": {},
   "outputs": [
    {
     "data": {
      "text/plain": [
       "<matplotlib.colorbar.Colorbar at 0x19cbf126340>"
      ]
     },
     "execution_count": 7,
     "metadata": {},
     "output_type": "execute_result"
    },
    {
     "data": {
      "image/png": "[encoded data removed]",
      "text/plain": [
       "<Figure size 432x288 with 2 Axes>"
      ]
     },
     "metadata": {
      "needs_background": "light"
     },
     "output_type": "display_data"
    }
   ],
   "source": [
    "plt.figure()\n",
    "plt.imshow(x_train[29293])\n",
    "plt.colorbar()"
   ]
  },
  {
   "cell_type": "markdown",
   "metadata": {},
   "source": [
    "## Dividing each pixels by 255 as we need our pixels between 0 and 1:"
   ]
  },
  {
   "cell_type": "code",
   "execution_count": 8,
   "metadata": {},
   "outputs": [],
   "source": [
    "x_train = x_train/255\n",
    "x_test = x_test/255"
   ]
  },
  {
   "cell_type": "code",
   "execution_count": 9,
   "metadata": {},
   "outputs": [
    {
     "data": {
      "text/plain": [
       "<matplotlib.colorbar.Colorbar at 0x19cbbc5e100>"
      ]
     },
     "execution_count": 9,
     "metadata": {},
     "output_type": "execute_result"
    },
    {
     "data": {
      "image/png": "[encoded data removed]",
      "text/plain": [
       "<Figure size 432x288 with 2 Axes>"
      ]
     },
     "metadata": {
      "needs_background": "light"
     },
     "output_type": "display_data"
    }
   ],
   "source": [
    "plt.figure()\n",
    "plt.imshow(x_train[29293])\n",
    "plt.colorbar()"
   ]
  },
  {
   "cell_type": "markdown",
   "metadata": {},
   "source": [
    "## Model building with Tensorflow and its Keras API:"
   ]
  },
  {
   "cell_type": "code",
   "execution_count": 10,
   "metadata": {},
   "outputs": [],
   "source": [
    "from tensorflow.keras.models import Sequential\n",
    "from tensorflow.keras.layers import Flatten,Dense"
   ]
  },
  {
   "cell_type": "code",
   "execution_count": 11,
   "metadata": {},
   "outputs": [],
   "source": [
    "model = Sequential() #Creating a sequential layers.\n"
   ]
  },
  {
   "cell_type": "code",
   "execution_count": 12,
   "metadata": {},
   "outputs": [],
   "source": [
    "model.add(Flatten(input_shape = (28,28))) #Flattens the input matrix as vector.\n",
    "model.add(Dense(232,activation = 'relu')) #Building Densely connected layers.\n",
    "model.add(Dense(32,activation = 'relu'))\n",
    "model.add(Dense(10, activation = 'softmax'))"
   ]
  },
  {
   "cell_type": "markdown",
   "metadata": {},
   "source": [
    "## Looking at our model summary:"
   ]
  },
  {
   "cell_type": "code",
   "execution_count": 13,
   "metadata": {},
   "outputs": [
    {
     "name": "stdout",
     "output_type": "stream",
     "text": [
      "Model: \"sequential\"\n",
      "_________________________________________________________________\n",
      " Layer (type)                Output Shape              Param #   \n",
      "=================================================================\n",
      " flatten (Flatten)           (None, 784)               0         \n",
      "                                                                 \n",
      " dense (Dense)               (None, 232)               182120    \n",
      "                                                                 \n",
      " dense_1 (Dense)             (None, 32)                7456      \n",
      "                                                                 \n",
      " dense_2 (Dense)             (None, 10)                330       \n",
      "                                                                 \n",
      "=================================================================\n",
      "Total params: 189,906\n",
      "Trainable params: 189,906\n",
      "Non-trainable params: 0\n",
      "_________________________________________________________________\n"
     ]
    }
   ],
   "source": [
    "model.summary()"
   ]
  },
  {
   "cell_type": "markdown",
   "metadata": {},
   "source": [
    "## Compiling the model with ADAM optimization technique:"
   ]
  },
  {
   "cell_type": "code",
   "execution_count": 14,
   "metadata": {},
   "outputs": [],
   "source": [
    "model.compile(optimizer = 'adam',loss = 'sparse_categorical_crossentropy',metrics = ['accuracy'])"
   ]
  },
  {
   "cell_type": "markdown",
   "metadata": {},
   "source": [
    "## Fitting the model into training sets:"
   ]
  },
  {
   "cell_type": "code",
   "execution_count": 15,
   "metadata": {},
   "outputs": [
    {
     "name": "stdout",
     "output_type": "stream",
     "text": [
      "Epoch 1/30\n",
      "12/12 [==============================] - 1s 29ms/step - loss: 1.7148 - accuracy: 0.5072\n",
      "Epoch 2/30\n",
      "12/12 [==============================] - 0s 25ms/step - loss: 0.7401 - accuracy: 0.8071\n",
      "Epoch 3/30\n",
      "12/12 [==============================] - 0s 26ms/step - loss: 0.4226 - accuracy: 0.8816\n",
      "Epoch 4/30\n",
      "12/12 [==============================] - 0s 25ms/step - loss: 0.3236 - accuracy: 0.9089\n",
      "Epoch 5/30\n",
      "12/12 [==============================] - 0s 24ms/step - loss: 0.2769 - accuracy: 0.9213\n",
      "Epoch 6/30\n",
      "12/12 [==============================] - 0s 24ms/step - loss: 0.2457 - accuracy: 0.9309\n",
      "Epoch 7/30\n",
      "12/12 [==============================] - 0s 26ms/step - loss: 0.2235 - accuracy: 0.9373\n",
      "Epoch 8/30\n",
      "12/12 [==============================] - 0s 28ms/step - loss: 0.2049 - accuracy: 0.9427\n",
      "Epoch 9/30\n",
      "12/12 [==============================] - 0s 28ms/step - loss: 0.1899 - accuracy: 0.9473\n",
      "Epoch 10/30\n",
      "12/12 [==============================] - 0s 30ms/step - loss: 0.1770 - accuracy: 0.9507\n",
      "Epoch 11/30\n",
      "12/12 [==============================] - 0s 24ms/step - loss: 0.1654 - accuracy: 0.9540\n",
      "Epoch 12/30\n",
      "12/12 [==============================] - 0s 22ms/step - loss: 0.1546 - accuracy: 0.9569\n",
      "Epoch 13/30\n",
      "12/12 [==============================] - 0s 23ms/step - loss: 0.1458 - accuracy: 0.9597\n",
      "Epoch 14/30\n",
      "12/12 [==============================] - 0s 22ms/step - loss: 0.1373 - accuracy: 0.9620\n",
      "Epoch 15/30\n",
      "12/12 [==============================] - 0s 20ms/step - loss: 0.1293 - accuracy: 0.9638\n",
      "Epoch 16/30\n",
      "12/12 [==============================] - 0s 26ms/step - loss: 0.1225 - accuracy: 0.9657\n",
      "Epoch 17/30\n",
      "12/12 [==============================] - 0s 22ms/step - loss: 0.1158 - accuracy: 0.9679\n",
      "Epoch 18/30\n",
      "12/12 [==============================] - 0s 22ms/step - loss: 0.1092 - accuracy: 0.9698\n",
      "Epoch 19/30\n",
      "12/12 [==============================] - 0s 23ms/step - loss: 0.1034 - accuracy: 0.9710\n",
      "Epoch 20/30\n",
      "12/12 [==============================] - 0s 24ms/step - loss: 0.0983 - accuracy: 0.9729\n",
      "Epoch 21/30\n",
      "12/12 [==============================] - 0s 29ms/step - loss: 0.0931 - accuracy: 0.9744\n",
      "Epoch 22/30\n",
      "12/12 [==============================] - 0s 23ms/step - loss: 0.0882 - accuracy: 0.9756\n",
      "Epoch 23/30\n",
      "12/12 [==============================] - 0s 23ms/step - loss: 0.0841 - accuracy: 0.9772\n",
      "Epoch 24/30\n",
      "12/12 [==============================] - 0s 23ms/step - loss: 0.0804 - accuracy: 0.9786\n",
      "Epoch 25/30\n",
      "12/12 [==============================] - 0s 21ms/step - loss: 0.0765 - accuracy: 0.9796\n",
      "Epoch 26/30\n",
      "12/12 [==============================] - 0s 22ms/step - loss: 0.0724 - accuracy: 0.9809\n",
      "Epoch 27/30\n",
      "12/12 [==============================] - 0s 22ms/step - loss: 0.0697 - accuracy: 0.9814\n",
      "Epoch 28/30\n",
      "12/12 [==============================] - 0s 21ms/step - loss: 0.0663 - accuracy: 0.9829\n",
      "Epoch 29/30\n",
      "12/12 [==============================] - 0s 21ms/step - loss: 0.0634 - accuracy: 0.9833\n",
      "Epoch 30/30\n",
      "12/12 [==============================] - 0s 21ms/step - loss: 0.0600 - accuracy: 0.9845\n"
     ]
    },
    {
     "data": {
      "text/plain": [
       "<keras.callbacks.History at 0x19cbbe57760>"
      ]
     },
     "execution_count": 15,
     "metadata": {},
     "output_type": "execute_result"
    }
   ],
   "source": [
    "model.fit(x_train, y_train, epochs = 30, batch_size = 5000)"
   ]
  },
  {
   "cell_type": "markdown",
   "metadata": {},
   "source": [
    "## Evaluating model accuracy on test sets:"
   ]
  },
  {
   "cell_type": "code",
   "execution_count": 16,
   "metadata": {},
   "outputs": [
    {
     "name": "stdout",
     "output_type": "stream",
     "text": [
      "2/2 [==============================] - 0s 16ms/step - loss: 0.0893 - accuracy: 0.9722\n"
     ]
    },
    {
     "data": {
      "text/plain": [
       "[0.08932223916053772, 0.9721999764442444]"
      ]
     },
     "execution_count": 16,
     "metadata": {},
     "output_type": "execute_result"
    }
   ],
   "source": [
    "model.evaluate(x_test,y_test,batch_size=5000)"
   ]
  },
  {
   "cell_type": "markdown",
   "metadata": {},
   "source": [
    "### The test accuracy is nearly close to train accuracy which shows that our model is well generalized model."
   ]
  },
  {
   "cell_type": "markdown",
   "metadata": {},
   "source": [
    "## Making the prediction on a batch:"
   ]
  },
  {
   "cell_type": "code",
   "execution_count": 17,
   "metadata": {},
   "outputs": [],
   "source": [
    "predictions = model.predict_on_batch(x_test)"
   ]
  },
  {
   "cell_type": "code",
   "execution_count": 18,
   "metadata": {},
   "outputs": [
    {
     "data": {
      "text/plain": [
       "array([[6.49948151e-06, 3.28133615e-06, 1.26175320e-04, ...,\n",
       "        9.97291744e-01, 3.62332025e-06, 2.90843658e-04],\n",
       "       [7.21495255e-08, 1.68400162e-04, 9.99635339e-01, ...,\n",
       "        3.00996783e-09, 3.96494625e-06, 1.08612161e-10],\n",
       "       [1.07922542e-05, 9.92776155e-01, 1.58518658e-03, ...,\n",
       "        1.95683097e-03, 2.17802962e-03, 3.60268095e-05],\n",
       "       ...,\n",
       "       [7.56122986e-09, 1.88946672e-08, 1.06686375e-08, ...,\n",
       "        1.28909505e-05, 7.48373786e-05, 4.71134932e-04],\n",
       "       [9.45902627e-08, 1.48346615e-07, 8.78979001e-10, ...,\n",
       "        2.22484360e-08, 7.41361931e-04, 7.56928831e-09],\n",
       "       [4.69748016e-07, 4.65107050e-11, 1.30827184e-05, ...,\n",
       "        2.33089286e-12, 1.92354914e-08, 1.15244780e-09]], dtype=float32)"
      ]
     },
     "execution_count": 18,
     "metadata": {},
     "output_type": "execute_result"
    }
   ],
   "source": [
    "predictions"
   ]
  },
  {
   "cell_type": "code",
   "execution_count": 19,
   "metadata": {},
   "outputs": [
    {
     "data": {
      "text/plain": [
       "0"
      ]
     },
     "execution_count": 19,
     "metadata": {},
     "output_type": "execute_result"
    }
   ],
   "source": [
    "np.argmax(predictions[3]) #Argmax returns the index which will be having maximum probability."
   ]
  },
  {
   "cell_type": "code",
   "execution_count": 20,
   "metadata": {},
   "outputs": [
    {
     "data": {
      "text/plain": [
       "<matplotlib.colorbar.Colorbar at 0x19cbd17b730>"
      ]
     },
     "execution_count": 20,
     "metadata": {},
     "output_type": "execute_result"
    },
    {
     "data": {
      "image/png": "[encoded data removed]",
      "text/plain": [
       "<Figure size 432x288 with 2 Axes>"
      ]
     },
     "metadata": {
      "needs_background": "light"
     },
     "output_type": "display_data"
    }
   ],
   "source": [
    "plt.figure()\n",
    "plt.imshow(x_test[3])\n",
    "plt.colorbar()"
   ]
  },
  {
   "cell_type": "markdown",
   "metadata": {
    "tags": []
   },
   "source": [
    "## Creating our own prediction function which even plots the digit:"
   ]
  },
  {
   "cell_type": "code",
   "execution_count": 21,
   "metadata": {},
   "outputs": [],
   "source": [
    "def do_prediction(i):\n",
    "    \n",
    "    plt.figure()\n",
    "    plt.imshow(x_test[i])\n",
    "    plt.colorbar()\n",
    "\n",
    "    print('The predicted number by the model is :',np.argmax(predictions[i]))\n",
    "    return \n",
    "    "
   ]
  },
  {
   "cell_type": "code",
   "execution_count": 22,
   "metadata": {},
   "outputs": [
    {
     "name": "stdout",
     "output_type": "stream",
     "text": [
      "The predicted number by the model is : 4\n"
     ]
    },
    {
     "data": {
      "image/png": "[encoded data removed]",
      "text/plain": [
       "<Figure size 432x288 with 2 Axes>"
      ]
     },
     "metadata": {
      "needs_background": "light"
     },
     "output_type": "display_data"
    }
   ],
   "source": [
    "do_prediction(6)"
   ]
  },
  {
   "cell_type": "code",
   "execution_count": null,
   "metadata": {},
   "outputs": [],
   "source": []
  }
 ],
 "metadata": {
  "kernelspec": {
   "display_name": "Python 3",
   "language": "python",
   "name": "python3"
  },
  "language_info": {
   "codemirror_mode": {
    "name": "ipython",
    "version": 3
   },
   "file_extension": ".py",
   "mimetype": "text/x-python",
   "name": "python",
   "nbconvert_exporter": "python",
   "pygments_lexer": "ipython3",
   "version": "3.8.5"
  }
 },
 "nbformat": 4,
 "nbformat_minor": 4
}
